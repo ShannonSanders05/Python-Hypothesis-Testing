{
 "cells": [
  {
   "cell_type": "code",
   "execution_count": 1,
   "metadata": {
    "id": "mkJ6Ae39OZhU"
   },
   "outputs": [],
   "source": [
    "import pandas as pd\n",
    "from scipy.stats import ttest_ind, chisquare\n",
    "from statsmodels.stats.proportion import proportions_ztest"
   ]
  },
  {
   "cell_type": "markdown",
   "metadata": {
    "id": "gd1NRgLEOaxt"
   },
   "source": [
    "## US Health Insurance Dataset [(source)](https://www.kaggle.com/datasets/teertha/ushealthinsurancedataset)\n",
    "\n",
    "This dataset contains 1338 rows of insured data, where the Insurance charges are given against the following attributes of the insured: Age, Sex, BMI, Number of Children, Smoker and Region. There are no missing or undefined values in the dataset.\n",
    "\n",
    "For the following exercises, assume that the data was taken from a random sample of users."
   ]
  },
  {
   "cell_type": "code",
   "execution_count": 2,
   "metadata": {
    "colab": {
     "base_uri": "https://localhost:8080/",
     "height": 206
    },
    "id": "95bJHuBFl2BM",
    "outputId": "f642eb45-e437-4213-d71f-415d32c410bf"
   },
   "outputs": [
    {
     "data": {
      "text/html": [
       "<div>\n",
       "<style scoped>\n",
       "    .dataframe tbody tr th:only-of-type {\n",
       "        vertical-align: middle;\n",
       "    }\n",
       "\n",
       "    .dataframe tbody tr th {\n",
       "        vertical-align: top;\n",
       "    }\n",
       "\n",
       "    .dataframe thead th {\n",
       "        text-align: right;\n",
       "    }\n",
       "</style>\n",
       "<table border=\"1\" class=\"dataframe\">\n",
       "  <thead>\n",
       "    <tr style=\"text-align: right;\">\n",
       "      <th></th>\n",
       "      <th>age</th>\n",
       "      <th>sex</th>\n",
       "      <th>bmi</th>\n",
       "      <th>children</th>\n",
       "      <th>smoker</th>\n",
       "      <th>region</th>\n",
       "      <th>charges</th>\n",
       "    </tr>\n",
       "  </thead>\n",
       "  <tbody>\n",
       "    <tr>\n",
       "      <th>0</th>\n",
       "      <td>19</td>\n",
       "      <td>female</td>\n",
       "      <td>27.900</td>\n",
       "      <td>0</td>\n",
       "      <td>yes</td>\n",
       "      <td>southwest</td>\n",
       "      <td>16884.92400</td>\n",
       "    </tr>\n",
       "    <tr>\n",
       "      <th>1</th>\n",
       "      <td>18</td>\n",
       "      <td>male</td>\n",
       "      <td>33.770</td>\n",
       "      <td>1</td>\n",
       "      <td>no</td>\n",
       "      <td>southeast</td>\n",
       "      <td>1725.55230</td>\n",
       "    </tr>\n",
       "    <tr>\n",
       "      <th>2</th>\n",
       "      <td>28</td>\n",
       "      <td>male</td>\n",
       "      <td>33.000</td>\n",
       "      <td>3</td>\n",
       "      <td>no</td>\n",
       "      <td>southeast</td>\n",
       "      <td>4449.46200</td>\n",
       "    </tr>\n",
       "    <tr>\n",
       "      <th>3</th>\n",
       "      <td>33</td>\n",
       "      <td>male</td>\n",
       "      <td>22.705</td>\n",
       "      <td>0</td>\n",
       "      <td>no</td>\n",
       "      <td>northwest</td>\n",
       "      <td>21984.47061</td>\n",
       "    </tr>\n",
       "    <tr>\n",
       "      <th>4</th>\n",
       "      <td>32</td>\n",
       "      <td>male</td>\n",
       "      <td>28.880</td>\n",
       "      <td>0</td>\n",
       "      <td>no</td>\n",
       "      <td>northwest</td>\n",
       "      <td>3866.85520</td>\n",
       "    </tr>\n",
       "  </tbody>\n",
       "</table>\n",
       "</div>"
      ],
      "text/plain": [
       "   age     sex     bmi  children smoker     region      charges\n",
       "0   19  female  27.900         0    yes  southwest  16884.92400\n",
       "1   18    male  33.770         1     no  southeast   1725.55230\n",
       "2   28    male  33.000         3     no  southeast   4449.46200\n",
       "3   33    male  22.705         0     no  northwest  21984.47061\n",
       "4   32    male  28.880         0     no  northwest   3866.85520"
      ]
     },
     "execution_count": 2,
     "metadata": {},
     "output_type": "execute_result"
    }
   ],
   "source": [
    "df = pd.read_csv(r\"C:\\Users\\User\\Documents\\DATA ANALYST\\SELF STUDY\\MODULE 5\\HA\\HA 5.9\\insurance (1).csv\")\n",
    "df.head()"
   ]
  },
  {
   "cell_type": "markdown",
   "metadata": {
    "id": "0MUe1U6mDH9V"
   },
   "source": [
    "## Problem 1: Test if the insurance charges are different for males vs. females."
   ]
  },
  {
   "cell_type": "code",
   "execution_count": 3,
   "metadata": {
    "colab": {
     "base_uri": "https://localhost:8080/"
    },
    "id": "5_yUeLaWHDbV",
    "outputId": "b6e4ac38-5735-493c-b803-016a94ed2b2b"
   },
   "outputs": [
    {
     "name": "stdout",
     "output_type": "stream",
     "text": [
      "Test statistic:  2.097546590051688\n",
      "p-value:  0.03613272100592976\n",
      "Reject the Null Hypothesis (alpha = 0.05).\n"
     ]
    }
   ],
   "source": [
    "\"\"\"\n",
    "Null Hypothesis: male_charges == female_charges\n",
    "Alternative Hypothesis: male_charges != female_charges\n",
    "\"\"\"\n",
    "\n",
    "male_charges = df.loc[df.sex=='male', 'charges']\n",
    "female_charges = df.loc[df.sex=='female', 'charges']\n",
    "\n",
    "alpha = 0.05\n",
    "\n",
    "t_stat, p_val = ttest_ind(male_charges, female_charges, alternative=\"two-sided\")    # test statistics and p_value\n",
    "print ('Test statistic: ', t_stat)\n",
    "print ('p-value: ', p_val)\n",
    "\n",
    "if p_val < alpha:    # greater than, less than, etc.?\n",
    "    print (f'Reject the Null Hypothesis (alpha = {alpha}).')\n",
    "else:\n",
    "    print (f'Fail to Reject the Null Hypothesis (alpha = {alpha}).')"
   ]
  },
  {
   "cell_type": "markdown",
   "metadata": {
    "id": "nHxssXZULEh5"
   },
   "source": [
    "## Problem 2: Test if the insurance charges are higher for those with children."
   ]
  },
  {
   "cell_type": "code",
   "execution_count": 4,
   "metadata": {
    "colab": {
     "base_uri": "https://localhost:8080/"
    },
    "id": "I4Bh31h3LjxD",
    "outputId": "a41b5a7d-1411-4e91-8514-e3a2c9694a73"
   },
   "outputs": [
    {
     "name": "stdout",
     "output_type": "stream",
     "text": [
      "Test statistic:  -2.3720611301669337\n",
      "p-value:  0.008915087341782842\n",
      "Reject the Null Hypothesis (alpha = 0.05).\n"
     ]
    }
   ],
   "source": [
    "\"\"\"\n",
    "Null Hypothesis: no_child >= with_child\n",
    "Alternative Hypothesis: no_child <= with_child\n",
    "\"\"\"\n",
    "\n",
    "no_child = df.loc[df.children==0, 'charges']\n",
    "with_child = df.loc[df.children>0, 'charges']\n",
    "\n",
    "alpha = 0.05\n",
    "\n",
    "t_stat, p_val = ttest_ind(no_child, with_child, alternative='less')    # get t-stat and p-value\n",
    "print ('Test statistic: ', t_stat)\n",
    "print ('p-value: ', p_val)\n",
    "\n",
    "if p_val < alpha:\n",
    "    print (f'Reject the Null Hypothesis (alpha = {alpha}).')\n",
    "else:\n",
    "    print (f'Fail to Reject the Null Hypothesis (alpha = {alpha}).')"
   ]
  },
  {
   "cell_type": "markdown",
   "metadata": {
    "id": "jX2HzXg_IP5h"
   },
   "source": [
    "## Problem 3: Test if the proportion of smokers is more than 20%"
   ]
  },
  {
   "cell_type": "code",
   "execution_count": 9,
   "metadata": {
    "colab": {
     "base_uri": "https://localhost:8080/"
    },
    "id": "mSGuRA3iJLLN",
    "outputId": "3f95934f-15d2-4e35-a7c8-c95d6c784aaf"
   },
   "outputs": [
    {
     "name": "stdout",
     "output_type": "stream",
     "text": [
      "p-value: 0.33229937909683\n",
      "Fail to Reject the Null Hypothesis (alpha = 0.05).\n"
     ]
    }
   ],
   "source": [
    "\"\"\"\n",
    "Null Hypothesis: Fraction of Smokers <= 0.20\n",
    "Alternative Hypothesis: Fraction of Smokers >= 0.20\n",
    "\"\"\"\n",
    "\n",
    "smokers = df[df.smoker==\"yes\"]\n",
    "non_smokers = df[df.smoker==\"no\"]\n",
    "\n",
    "alpha = 0.05\n",
    "\n",
    "# compute for the p-value\n",
    "z_stat, p_val = proportions_ztest(count=len(smokers),\n",
    "                                  nobs=len(smokers)+len(non_smokers),\n",
    "                                  value=0.2,\n",
    "                                  alternative='larger')\n",
    "print('p-value:', p_val)\n",
    "\n",
    "if p_val < alpha:\n",
    "    print (f'Reject the Null Hypothesis (alpha = {alpha}).')\n",
    "else:\n",
    "    print (f'Fail to Reject the Null Hypothesis (alpha = {alpha}).')"
   ]
  },
  {
   "cell_type": "markdown",
   "metadata": {
    "id": "ENOrmUwDLw_8"
   },
   "source": [
    "## Problem 4: Test if the proportion of smokers from each region follows the table below:\n",
    "\n",
    "|           | Non-Smoker | Smoker |\n",
    "|-----------|------------|-----------|\n",
    "| northeast     | 20%        | 5%        |\n",
    "| northwest | 20%        | 5%       |\n",
    "| southeast | 20%        | 5%       |\n",
    "| southwest | 20%        | 5%       |"
   ]
  },
  {
   "cell_type": "code",
   "execution_count": 5,
   "metadata": {
    "colab": {
     "base_uri": "https://localhost:8080/"
    },
    "id": "tNvblKdqMCDW",
    "outputId": "3443505e-c558-4e33-e420-91e01248e77d"
   },
   "outputs": [
    {
     "name": "stdout",
     "output_type": "stream",
     "text": [
      "p-value: 0.11519018608755734\n",
      "Fail to Reject the Null Hypothesis (alpha = 0.05).\n"
     ]
    }
   ],
   "source": [
    "\"\"\"\n",
    "Null Hypothesis: Proportion of smokers from each region follows the table\n",
    "Alternative Hypothesis: Proportion of smokers from each region does not follow the table\n",
    "\"\"\"\n",
    "\n",
    "obs = df.groupby(['smoker', 'region']).charges.count()    # smokers per region\n",
    "n_obs = len(df)    # number of observations\n",
    "\n",
    "f_obs = obs.values\n",
    "f_exp = []    # expected frequencies\n",
    "for exp in [0.2, 0.2, 0.2, 0.2, 0.05, 0.05, 0.05, 0.05]:\n",
    "  f_exp.append(exp*n_obs)\n",
    "\n",
    "alpha = 0.05\n",
    "\n",
    "chi_sq, p_val = chisquare(f_obs=f_obs, f_exp=f_exp)\n",
    "print('p-value:', p_val)\n",
    "\n",
    "if p_val < alpha:\n",
    "    print (f'Reject the Null Hypothesis (alpha = {alpha}).')\n",
    "else:\n",
    "    print (f'Fail to Reject the Null Hypothesis (alpha = {alpha}).')\n",
    "\n",
    "\n"
   ]
  }
 ],
 "metadata": {
  "colab": {
   "provenance": []
  },
  "kernelspec": {
   "display_name": "Python 3 (ipykernel)",
   "language": "python",
   "name": "python3"
  },
  "language_info": {
   "codemirror_mode": {
    "name": "ipython",
    "version": 3
   },
   "file_extension": ".py",
   "mimetype": "text/x-python",
   "name": "python",
   "nbconvert_exporter": "python",
   "pygments_lexer": "ipython3",
   "version": "3.11.5"
  }
 },
 "nbformat": 4,
 "nbformat_minor": 1
}
